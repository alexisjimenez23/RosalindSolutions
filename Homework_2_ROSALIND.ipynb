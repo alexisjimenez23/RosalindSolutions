{
  "nbformat": 4,
  "nbformat_minor": 0,
  "metadata": {
    "colab": {
      "provenance": []
    },
    "kernelspec": {
      "name": "python3",
      "display_name": "Python 3"
    },
    "language_info": {
      "name": "python"
    }
  },
  "cells": [
    {
      "cell_type": "markdown",
      "source": [
        "DNA:\n",
        "Problem\n",
        "A string is simply an ordered collection of symbols selected from some alphabet and formed into a word; the length of a string is the number of symbols that it contains.\n",
        "\n",
        "An example of a length 21 DNA string (whose alphabet contains the symbols 'A', 'C', 'G', and 'T') is \"ATGCTTCAGAAAGGTCTTACG.\"\n",
        "\n",
        "Given: A DNA string s\n",
        " of length at most 1000 nt.\n",
        "\n",
        "Return: Four integers (separated by spaces) counting the respective number of times that the symbols 'A', 'C', 'G', and 'T' occur in s\n"
      ],
      "metadata": {
        "id": "EULQECfgm7zn"
      }
    },
    {
      "cell_type": "code",
      "source": [
        "dna_string = \"ATGCTTCAGAAAGGTCTTACG\"\n",
        "\n",
        "def count_nuc(dna_string):\n",
        "    a_count = dna_string.count('A')\n",
        "    c_count = dna_string.count('C')\n",
        "    g_count = dna_string.count('G')\n",
        "    t_count = dna_string.count('T')\n",
        "    return f\"{a_count} {c_count} {g_count} {t_count}\"\n",
        "\n",
        "\n",
        "print(count_nuc(dna_string))\n"
      ],
      "metadata": {
        "colab": {
          "base_uri": "https://localhost:8080/"
        },
        "id": "9uxTV5rxnBGX",
        "outputId": "dc3e5cf3-5cfd-4e05-d3c8-1123d1dcbe13"
      },
      "execution_count": null,
      "outputs": [
        {
          "output_type": "stream",
          "name": "stdout",
          "text": [
            "6 4 5 6\n"
          ]
        }
      ]
    },
    {
      "cell_type": "markdown",
      "source": [
        "RNA:\n",
        "Problem\n",
        "An RNA string is a string formed from the alphabet containing 'A', 'C', 'G', and 'U'.\n",
        "\n",
        "Given a DNA string t\n",
        " corresponding to a coding strand, its transcribed RNA string u\n",
        " is formed by replacing all occurrences of 'T' in t\n",
        " with 'U' in u\n",
        "\n",
        "Given: A DNA string t\n",
        " having length at most 1000 nt.\n",
        "\n",
        "Return: The transcribed RNA string of t"
      ],
      "metadata": {
        "id": "YAq7vGrankCd"
      }
    },
    {
      "cell_type": "code",
      "source": [
        "dna_string = \"ATGCTTCAGAAAGGTCTTACG\"\n",
        "def transcribe(dna_string):\n",
        "    return dna_string.replace('T', 'U')\n",
        "\n",
        "print(transcribe(dna_string))\n"
      ],
      "metadata": {
        "colab": {
          "base_uri": "https://localhost:8080/"
        },
        "id": "bmFKRF7-nokm",
        "outputId": "6b94798f-6837-43be-da5f-cc486d3aec82"
      },
      "execution_count": null,
      "outputs": [
        {
          "output_type": "stream",
          "name": "stdout",
          "text": [
            "AUGCUUCAGAAAGGUCUUACG\n"
          ]
        }
      ]
    },
    {
      "cell_type": "markdown",
      "source": [
        "REVC Problem\n",
        "In DNA strings, symbols 'A' and 'T' are complements of each other, as are 'C' and 'G'.\n",
        "\n",
        "The reverse complement of a DNA string s\n",
        " is the string sc\n",
        " formed by reversing the symbols of s and then taking the complement of each symbol (e.g., the reverse complement of \"GTCA\" is \"TGAC\").\n",
        "\n",
        "Given: A DNA string s of length at most 1000 bp.\n",
        "\n",
        "Return: The reverse complement sc of s"
      ],
      "metadata": {
        "id": "dunR7Qqsn6Gs"
      }
    },
    {
      "cell_type": "code",
      "source": [
        "def rev_comp(dna_string):\n",
        "    complement = {'A': 'T', 'T': 'A', 'C': 'G', 'G': 'C'}\n",
        "    rev_comp = ''.join(complement[base] for base in reversed(dna_string))\n",
        "    return rev_comp\n",
        "\n",
        "\n",
        "dna_string = \"GTCA\"\n",
        "print(rev_comp(dna_string))\n"
      ],
      "metadata": {
        "colab": {
          "base_uri": "https://localhost:8080/"
        },
        "id": "t8XJk1fln_YQ",
        "outputId": "82d12c94-fd8c-426e-be19-b86009190dbb"
      },
      "execution_count": null,
      "outputs": [
        {
          "output_type": "stream",
          "name": "stdout",
          "text": [
            "TGAC\n"
          ]
        }
      ]
    },
    {
      "cell_type": "markdown",
      "source": [
        "Problem GC\n",
        "The GC-content of a DNA string is given by the percentage of symbols in the string that are 'C' or 'G'. For example, the GC-content of \"AGCTATAG\" is 37.5%. Note that the reverse complement of any DNA string has the same GC-content.\n",
        "\n",
        "DNA strings must be labeled when they are consolidated into a database. A commonly used method of string labeling is called FASTA format. In this format, the string is introduced by a line that begins with '>', followed by some labeling information. Subsequent lines contain the string itself; the first line to begin with '>' indicates the label of the next string.\n",
        "\n",
        "In Rosalind's implementation, a string in FASTA format will be labeled by the ID \"Rosalind_xxxx\", where \"xxxx\" denotes a four-digit code between 0000 and 9999.\n",
        "\n",
        "Given: At most 10 DNA strings in FASTA format (of length at most 1 kbp each).\n",
        "\n",
        "Return: The ID of the string having the highest GC-content, followed by the GC-content of that string. Rosalind allows for a default error of 0.001 in all decimal answers unless otherwise stated; please see the note on absolute error below.\n",
        "\n",
        ">Rosalind_6404\n",
        "CCTGCGGAAGATCGGCACTAGAATAGCCAGAACCGTTTCTCTGAGGCTTCCGGCCTTCCC\n",
        "TCCCACTAATAATTCTGAGG\n",
        ">Rosalind_5959\n",
        "CCATCGGTAGCGCATCCTTAGTCCAATTAAGTCCCTATCCAGGCGCTCCGCCGAAGGTCT\n",
        "ATATCCATTTGTCAGCAGACACGC\n",
        ">Rosalind_0808\n",
        "CCACCCTCGTGGTATGGCTAGGCATTCAGGAACCGGAGAACGCTTCAGACCAGCCCGGAC\n",
        "TGGGAACCTGCGGGCAGTAGGTGGAAT\n"
      ],
      "metadata": {
        "id": "YXYnIRuGpVZj"
      }
    },
    {
      "cell_type": "code",
      "source": [
        "Example_input = \"\"\">Rosalind_6404\n",
        "CCTGCGGAAGATCGGCACTAGAATAGCCAGAACCGTTTCTCTGAGGCTTCCGGCCTTCCC\n",
        "TCCCACTAATAATTCTGAGG\n",
        ">Rosalind_5959\n",
        "CCATCGGTAGCGCATCCTTAGTCCAATTAAGTCCCTATCCAGGCGCTCCGCCGAAGGTCT\n",
        "ATATCCATTTGTCAGCAGACACGC\n",
        ">Rosalind_0808\n",
        "CCACCCTCGTGGTATGGCTAGGCATTCAGGAACCGGAGAACGCTTCAGACCAGCCCGGAC\n",
        "TGGGAACCTGCGGGCAGTAGGTGGAAT\"\"\"\n",
        "\n",
        "import re\n",
        "\n",
        "def gc(dna):\n",
        "    return (dna.count('C') + dna.count('G')) / len(dna) * 100\n",
        "\n",
        "def most_gc(Example_input):\n",
        "    querry = re.findall(r\">(Rosalind_\\d+)\\n([ACGT\\n]+)\", Example_input)\n",
        "    new_label, best_gc = max(((label, gc(seq.replace(\"\\n\", \"\"))) for label, seq in querry), key=lambda x: x[1])\n",
        "    return new_label, best_gc\n",
        "\n",
        "\n",
        "\n",
        "\n",
        "label, gc_content_value = most_gc(Example_input)\n",
        "print(label)\n",
        "print(f\"{gc_content_value:.6f}\")\n",
        "\n",
        "\n"
      ],
      "metadata": {
        "id": "lE3A5CokrzEk",
        "colab": {
          "base_uri": "https://localhost:8080/"
        },
        "outputId": "ddd7b4d1-4654-4d5f-c3e9-9da6bcf8ffe0"
      },
      "execution_count": null,
      "outputs": [
        {
          "output_type": "stream",
          "name": "stdout",
          "text": [
            "Rosalind_0808\n",
            "60.919540\n"
          ]
        }
      ]
    },
    {
      "cell_type": "markdown",
      "source": [
        "Problem: HAMM\n",
        "Given two strings s\n",
        " and t\n",
        " of equal length, the Hamming distance between s\n",
        " and t\n",
        ", denoted dH(s,t)\n",
        ", is the number of corresponding symbols that differ in s\n",
        " and t\n",
        ". See Figure 2.\n",
        "\n",
        "Given: Two DNA strings s\n",
        " and t\n",
        " of equal length (not exceeding 1 kbp).\n",
        "\n",
        "Return: The Hamming distance dH(s,t)\n",
        ".\n",
        "\n",
        "Sample Dataset\n",
        "GAGCCTACTAACGGGAT\n",
        "CATCGTAATGACGGCCT"
      ],
      "metadata": {
        "id": "90mBS5FGqaLm"
      }
    },
    {
      "cell_type": "code",
      "source": [
        "s = \"GAGCCTACTAACGGGAT\"\n",
        "t = \"CATCGTAATGACGGCCT\"\n",
        "\n",
        "def distance(s, t):\n",
        "    return sum(1 for a, b in zip(s, t) if a != b)\n",
        "\n",
        "print(distance(s, t))\n"
      ],
      "metadata": {
        "colab": {
          "base_uri": "https://localhost:8080/"
        },
        "id": "tt8VeV4mqodt",
        "outputId": "71c1b857-d368-4450-89a2-1081b5124b88"
      },
      "execution_count": null,
      "outputs": [
        {
          "output_type": "stream",
          "name": "stdout",
          "text": [
            "7\n"
          ]
        }
      ]
    },
    {
      "cell_type": "markdown",
      "source": [
        "PROT Problem\n",
        "The 20 commonly occurring amino acids are abbreviated by using 20 letters from the English alphabet (all letters except for B, J, O, U, X, and Z). Protein strings are constructed from these 20 symbols. Henceforth, the term genetic string will incorporate protein strings along with DNA strings and RNA strings.\n",
        "\n",
        "The RNA codon table dictates the details regarding the encoding of specific codons into the amino acid alphabet.\n",
        "\n",
        "Given: An RNA string s\n",
        " corresponding to a strand of mRNA (of length at most 10 kbp).\n",
        "\n",
        "Return: The protein string encoded by s\n",
        ".\n",
        "\n",
        "Sample Dataset\n",
        "AUGGCCAUGGCGCCCAGAACUGAGAUCAAUAGUACCCGUAUUAACGGGUGA"
      ],
      "metadata": {
        "id": "WBgQhoj0rDfy"
      }
    },
    {
      "cell_type": "code",
      "source": [
        "rna = \"AUGGCCAUGGCGCCCAGAACUGAGAUCAAUAGUACCCGUAUUAACGGGUGA\"\n",
        "\n",
        "def translate_protien(rna):\n",
        "    codon_dic = {\n",
        "        'UUU': 'F', 'UUC': 'F', 'UUA': 'L', 'UUG': 'L',\n",
        "        'UCU': 'S', 'UCC': 'S', 'UCA': 'S', 'UCG': 'S',\n",
        "        'UAU': 'Y', 'UAC': 'Y', 'UAA': '', 'UAG': '', 'UGA': '',\n",
        "        'UGU': 'C', 'UGC': 'C', 'UGG': 'W',\n",
        "        'CUU': 'L', 'CUC': 'L', 'CUA': 'L', 'CUG': 'L',\n",
        "        'CCU': 'P', 'CCC': 'P', 'CCA': 'P', 'CCG': 'P',\n",
        "        'CAU': 'H', 'CAC': 'H', 'CAA': 'Q', 'CAG': 'Q',\n",
        "        'CGU': 'R', 'CGC': 'R', 'CGA': 'R', 'CGG': 'R',\n",
        "        'AUU': 'I', 'AUC': 'I', 'AUA': 'I', 'AUG': 'M',\n",
        "        'ACU': 'T', 'ACC': 'T', 'ACA': 'T', 'ACG': 'T',\n",
        "        'AAU': 'N', 'AAC': 'N', 'AAA': 'K', 'AAG': 'K',\n",
        "        'AGU': 'S', 'AGC': 'S', 'AGA': 'R', 'AGG': 'R',\n",
        "        'GUU': 'V', 'GUC': 'V', 'GUA': 'V', 'GUG': 'V',\n",
        "        'GCU': 'A', 'GCC': 'A', 'GCA': 'A', 'GCG': 'A',\n",
        "        'GAU': 'D', 'GAC': 'D', 'GAA': 'E', 'GAG': 'E',\n",
        "        'GGU': 'G', 'GGC': 'G', 'GGA': 'G', 'GGG': 'G'\n",
        "    }\n",
        "\n",
        "    protein = []\n",
        "    for i in range(0, len(rna), 3):\n",
        "        codon = rna[i:i+3]\n",
        "        if codon in codon_dic:\n",
        "            amino_acid = codon_dic[codon]\n",
        "            if amino_acid == '':\n",
        "                break\n",
        "            protein.append(amino_acid)\n",
        "\n",
        "    return ''.join(protein)\n",
        "\n",
        "\n",
        "print(translate_protien(rna))\n"
      ],
      "metadata": {
        "colab": {
          "base_uri": "https://localhost:8080/"
        },
        "id": "yBQs8R3KrHYL",
        "outputId": "a9ebad70-cca8-4a4a-ce1b-4f63ed7ed608"
      },
      "execution_count": null,
      "outputs": [
        {
          "output_type": "stream",
          "name": "stdout",
          "text": [
            "MAMAPRTEINSTRING\n"
          ]
        }
      ]
    }
  ]
}